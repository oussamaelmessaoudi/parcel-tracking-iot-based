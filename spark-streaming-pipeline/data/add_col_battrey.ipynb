{
 "cells": [
  {
   "cell_type": "code",
   "id": "initial_id",
   "metadata": {
    "collapsed": true,
    "ExecuteTime": {
     "end_time": "2025-10-22T17:57:05.565055Z",
     "start_time": "2025-10-22T17:57:04.601220Z"
    }
   },
   "source": [
    "import pandas as pd\n",
    "import numpy as np\n",
    "\n",
    "df = pd.read_csv(\"Supply_chain_data.csv\")\n",
    "df = df.sort_values(by=[\"Transaction ID\", \"Timestamp\"])\n",
    "\n",
    "# Initialize battery column\n",
    "df['battery_level'] = np.nan\n",
    "\n",
    "# Loop per tracker / shipment\n",
    "for tx in df['Transaction ID'].unique():\n",
    "    subset = df[df['Transaction ID'] == tx]\n",
    "    n = len(subset)\n",
    "    start = np.random.uniform(85, 100)  # initial battery\n",
    "    battery = [start]\n",
    "\n",
    "    for i in range(1, n):\n",
    "        prev = battery[-1]\n",
    "        stage = subset.iloc[i]['Stage']\n",
    "        temp = subset.iloc[i]['Temperature']\n",
    "\n",
    "        # Base drain\n",
    "        if \"Warehouse\" in stage:\n",
    "            drain = np.random.uniform(0.01, 0.1)\n",
    "        elif \"Transport\" in stage or \"Delivery\" in stage or \"Retailer\" in stage:\n",
    "            drain = np.random.uniform(0.2, 0.8)\n",
    "        else:\n",
    "            drain = np.random.uniform(0.05, 0.3)\n",
    "\n",
    "        # Temperature effect\n",
    "        if temp > 30:\n",
    "            drain *= 1.5\n",
    "\n",
    "        # Recharge event in Warehouse\n",
    "        if \"Warehouse\" in stage and prev < 60:\n",
    "            prev = min(100, prev + np.random.uniform(5, 15))\n",
    "\n",
    "        new_battery = max(0, prev - drain)\n",
    "        battery.append(new_battery)\n",
    "\n",
    "    df.loc[df['Transaction ID'] == tx, 'battery_level'] = battery\n",
    "\n",
    "#  battery status\n",
    "def battery_status(level):\n",
    "    if level > 70:\n",
    "        return \"Good\"\n",
    "    elif level > 40:\n",
    "        return \"Medium\"\n",
    "    else:\n",
    "        return \"Low\"\n",
    "\n",
    "df['battery_status'] = df['battery_level'].apply(battery_status)\n",
    "\n",
    "# Save augmented dataset\n",
    "df.to_csv(\"smart_logistics_iot_with_battery.csv\", index=False)\n"
   ],
   "outputs": [],
   "execution_count": 2
  }
 ],
 "metadata": {
  "kernelspec": {
   "display_name": "Python 3",
   "language": "python",
   "name": "python3"
  },
  "language_info": {
   "codemirror_mode": {
    "name": "ipython",
    "version": 2
   },
   "file_extension": ".py",
   "mimetype": "text/x-python",
   "name": "python",
   "nbconvert_exporter": "python",
   "pygments_lexer": "ipython2",
   "version": "2.7.6"
  }
 },
 "nbformat": 4,
 "nbformat_minor": 5
}
